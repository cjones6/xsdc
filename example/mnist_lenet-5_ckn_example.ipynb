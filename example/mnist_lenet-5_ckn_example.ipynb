{
 "cells": [
  {
   "cell_type": "markdown",
   "metadata": {},
   "source": [
    "# <center> Training a LeNet-5 CKN on MNIST with XSDC </center>\n",
    "The XSDC algorithm provides an approach to end-to-end learning that allows one to jointly learn a feature\n",
    "representation from unlabeled data (with or without labeled data) and predict labels for unlabeled\n",
    "data. It is domain-agnostic and can be used with any amount of labeled and unlabeled data, gracefully\n",
    "adjusting to the amount of supervision.\n",
    "\n",
    "In this notebook we'll set up and train a LeNet-5 convolutional kernel network (see [Jones et al., 2019](https://arxiv.org/pdf/1903.08131.pdf) for how LeNet-5 was translated to a convolutional kernel network) on the dataset MNIST using XSDC. "
   ]
  },
  {
   "cell_type": "markdown",
   "metadata": {},
   "source": [
    "## 1 Setting up the data\n",
    "There are five main items we need to set up: the data, model, training parameters, and results and optimizer objects. First we'll set up the data. For this we need to first load the default parameters and the mnist data loader code:"
   ]
  },
  {
   "cell_type": "code",
   "execution_count": 1,
   "metadata": {},
   "outputs": [],
   "source": [
    "import sys\n",
    "sys.path.append('..')\n",
    "sys.path.append('../..')\n",
    "\n",
    "from src import default_params as defaults\n",
    "import src.data_loaders.mnist as mnist"
   ]
  },
  {
   "cell_type": "markdown",
   "metadata": {},
   "source": [
    "There are several parameters we need to set:\n",
    "- num_labeled: The number of labeled observations in the training set.\n",
    "- batch_size: The batch size to use for both the labeled data and the unlabeled data.\n",
    "- data_path: The directory where the data resides or will reside. For MNIST and CIFAR-10 if the data doesn't already exist there it will be automatically downloaded and saved there.\n",
    "\n",
    "The additional parameters stratified_unlabeling specifies whether, when removing labels to create the unlabeled training set, this should be done in a stratified manner or uniformly at random."
   ]
  },
  {
   "cell_type": "code",
   "execution_count": 2,
   "metadata": {},
   "outputs": [],
   "source": [
    "num_labeled = 50  \n",
    "batch_size = 1024\n",
    "data_path = '../data/MNIST'\n",
    "seed = 1"
   ]
  },
  {
   "cell_type": "code",
   "execution_count": 3,
   "metadata": {},
   "outputs": [],
   "source": [
    "import numpy as np\n",
    "import random\n",
    "import torch\n",
    "np.random.seed(seed)\n",
    "random.seed(seed)\n",
    "torch.manual_seed(seed)\n",
    "torch.cuda.manual_seed(seed)"
   ]
  },
  {
   "cell_type": "code",
   "execution_count": 4,
   "metadata": {},
   "outputs": [
    {
     "name": "stdout",
     "output_type": "stream",
     "text": [
      "Number of labeled data points being used: 50\n"
     ]
    }
   ],
   "source": [
    "# Create the data loaders\n",
    "train_loader, _, train_labeled_loader, train_unlabeled_loader, valid_loader, train_valid_loader, test_loader = \\\n",
    "    mnist.get_dataloaders(batch_size=batch_size, batch_size_labeled=batch_size, \n",
    "                          batch_size_unlabeled=batch_size, num_labeled=num_labeled,\n",
    "                          stratified_unlabeling=True, data_path=data_path, num_workers=0, seed=0)\n"
   ]
  },
  {
   "cell_type": "markdown",
   "metadata": {},
   "source": [
    "We have six different data loaders: \n",
    "- train_loader: Data loader that contains both the labeled and unlabeled observations in the training set\n",
    "- train_labeled_loader: Data loader that contains the labeled observations in the training set\n",
    "- train_unlabeled_loader: Data loader that contains the unlabeled observations in the training set\n",
    "- valid_loader: Data loader that contains the observations in the validation set\n",
    "- train_valid_loader: Data loader that contains the observations in both the training and validation sets\n",
    "- test_loader: Data loader that contains the observations in the test set\n",
    "\n",
    "Now we will create a Data object that contains the relevant data loaders and which will be used by XSDC:"
   ]
  },
  {
   "cell_type": "code",
   "execution_count": 5,
   "metadata": {},
   "outputs": [],
   "source": [
    "from src.opt import opt_structures\n",
    "data = opt_structures.Data(train_labeled_loader, train_unlabeled_loader, valid_loader, train_valid_loader, \n",
    "                           test_loader)"
   ]
  },
  {
   "cell_type": "markdown",
   "metadata": {},
   "source": [
    "## 2 Setting up the model\n",
    "Next we'll set up the model. The model is specified in a config file. This file is loaded and parsed, and then the model is initialized."
   ]
  },
  {
   "cell_type": "code",
   "execution_count": 6,
   "metadata": {},
   "outputs": [],
   "source": [
    "from src.model.ckn import parse_config, net"
   ]
  },
  {
   "cell_type": "markdown",
   "metadata": {},
   "source": [
    "There are two parameters we will change from the version of the network specified in the config file:\n",
    "1. The number of filters at each layer\n",
    "2. The bandwidths of the kernels\n",
    "\n",
    "We'll use a small model, so we'll set the number of filters per layer to 32. The bandwidth of 0.6 was found by Jones et al. (2019) using cross-validation."
   ]
  },
  {
   "cell_type": "code",
   "execution_count": 7,
   "metadata": {},
   "outputs": [],
   "source": [
    "num_filters = 32\n",
    "bandwidth = 0.6"
   ]
  },
  {
   "cell_type": "code",
   "execution_count": 9,
   "metadata": {},
   "outputs": [
    {
     "name": "stdout",
     "output_type": "stream",
     "text": [
      "Initializing layer 0\n",
      "Initializing layer 1\n",
      "Initializing layer 2\n",
      "Initializing layer 3\n",
      "Initializing layer 4\n",
      "Initializing layer 5\n",
      "Done with initialization\n"
     ]
    }
   ],
   "source": [
    "# Load the parameters of the network\n",
    "params = parse_config.load_config('../cfg/lenet-5_ckn.cfg')\n",
    "\n",
    "# Change the number of filters per layer and the bandwidths of the kernels\n",
    "nlayers = len(params['num_filters'])\n",
    "params['num_filters'] = [num_filters] * nlayers\n",
    "params['patch_sigma'] = [bandwidth] * nlayers\n",
    "\n",
    "# Create the network\n",
    "layers = parse_config.create_layers(params)\n",
    "model = net.CKN(layers).to(defaults.device)\n",
    "\n",
    "# Initialize the network\n",
    "model.init(train_loader)\n",
    "print('Done with initialization')"
   ]
  },
  {
   "cell_type": "markdown",
   "metadata": {},
   "source": [
    "The network has now been initialized. We just need to create an object of the `Model` class for XSDC. We'll save the model after training to the file `../output/temp_model.pickle`."
   ]
  },
  {
   "cell_type": "code",
   "execution_count": 10,
   "metadata": {},
   "outputs": [],
   "source": [
    "import os\n",
    "\n",
    "save_file = os.path.join('..', 'output', 'temp')\n",
    "model = opt_structures.Model(model, save_path=save_file + '_model.pickle')"
   ]
  },
  {
   "cell_type": "markdown",
   "metadata": {},
   "source": [
    "## 3 Setting up the parameters\n",
    "Finally, we'll set up the parameters. There are a large number of parameters that we can specifiy for XSDC. These include the following:"
   ]
  },
  {
   "cell_type": "code",
   "execution_count": 11,
   "metadata": {},
   "outputs": [],
   "source": [
    "nclasses = 10                # Number of classes in the dataset\n",
    "min_frac_points_class = 0.1  # Minimum fraction of points per class in the dataset\n",
    "max_frac_points_class = 0.1  # Maximum fraction of points per class in the dataset\n",
    "project = True               # Whether to project the patches onto the unit sphere at each layer\n",
    "normalize = True             # Whether to normalize the features after they are output by the network\n",
    "labeling_burnin = 200        # Number of iterations for which it will train on only the labeled data to start\n",
    "lr_sup = 2**-7               # Learning rate when training on only the labeled data\n",
    "lr_semisup = 2**-6           # Learning rate when training on the labeled + unlabeled data\n",
    "max_iter = 300               # Number of iterations for which it will run\n",
    "lambda_pix = 2**-5           # Penalty on the centered features\n",
    "save_path = save_file + '_params.pickle' # File where the parameters will be saved\n",
    "save_every = 50              # How often to save the model, parameters, and results (after how many iterations)\n",
    "train_w_layers = [0, 2, 4, 5]  # Layers of the network whose parameters should be trained"
   ]
  },
  {
   "cell_type": "markdown",
   "metadata": {},
   "source": [
    "We'll run XSDC for 300 iterations."
   ]
  },
  {
   "cell_type": "code",
   "execution_count": 12,
   "metadata": {},
   "outputs": [],
   "source": [
    "params = opt_structures.Params(nclasses=nclasses, min_frac_points_class=min_frac_points_class, \n",
    "                               max_frac_points_class=max_frac_points_class, project=project, \n",
    "                               normalize=normalize, labeling_burnin=labeling_burnin, step_size_init_sup=lr_sup,\n",
    "                               step_size_init_semisup=lr_semisup, maxiter=max_iter, lambda_pix=lambda_pix, \n",
    "                               save_path=save_path, save_every=save_every, train_w_layers=train_w_layers)"
   ]
  },
  {
   "cell_type": "markdown",
   "metadata": {},
   "source": [
    "## 4 Setting up the results and training objects\n",
    "The last things we need to set up are the object that will store the results and the optimizer object."
   ]
  },
  {
   "cell_type": "code",
   "execution_count": 13,
   "metadata": {},
   "outputs": [],
   "source": [
    "from src.opt import train_xsdc\n",
    "\n",
    "save_path = save_file + '_results.pickle'\n",
    "results = opt_structures.Results(save_path=save_path)\n",
    "\n",
    "optimizer = train_xsdc.TrainSupervised(data, model, params, results)"
   ]
  },
  {
   "cell_type": "markdown",
   "metadata": {},
   "source": [
    "## 5 Training with XSDC\n",
    "Now we're ready to train with XSDC! "
   ]
  },
  {
   "cell_type": "code",
   "execution_count": 14,
   "metadata": {},
   "outputs": [
    {
     "name": "stdout",
     "output_type": "stream",
     "text": [
      "Iteration \t Test accuracy \t Test loss\n",
      "0 \t\t 0.7240 \t 0.4488\n",
      "10 \t\t 0.7267 \t 0.4429\n",
      "20 \t\t 0.7322 \t 0.4386\n",
      "30 \t\t 0.7366 \t 0.4352\n",
      "40 \t\t 0.7367 \t 0.4343\n",
      "50 \t\t 0.7363 \t 0.4341\n",
      "60 \t\t 0.7366 \t 0.4341\n",
      "70 \t\t 0.7354 \t 0.4345\n",
      "80 \t\t 0.7347 \t 0.4355\n",
      "90 \t\t 0.7345 \t 0.4354\n",
      "100 \t\t 0.7340 \t 0.4453\n",
      "110 \t\t 0.7464 \t 0.4336\n",
      "120 \t\t 0.7496 \t 0.4319\n",
      "130 \t\t 0.7533 \t 0.4321\n",
      "140 \t\t 0.7514 \t 0.4369\n",
      "150 \t\t 0.7424 \t 0.4487\n",
      "160 \t\t 0.7291 \t 0.4647\n",
      "170 \t\t 0.7128 \t 0.4836\n",
      "180 \t\t 0.7104 \t 0.4857\n",
      "190 \t\t 0.7084 \t 0.4927\n",
      "200 \t\t 0.7046 \t 0.4887\n",
      "210 \t\t 0.7728 \t 0.3934\n",
      "220 \t\t 0.7905 \t 0.3688\n",
      "230 \t\t 0.7992 \t 0.3573\n",
      "240 \t\t 0.8135 \t 0.3359\n",
      "250 \t\t 0.8261 \t 0.3148\n",
      "260 \t\t 0.8389 \t 0.3011\n",
      "270 \t\t 0.8545 \t 0.2820\n",
      "280 \t\t 0.8506 \t 0.2830\n",
      "290 \t\t 0.8591 \t 0.2722\n",
      "300 \t\t 0.8523 \t 0.2773\n",
      "Done training. Saving final results.\n",
      "300 \t\t 0.8524 \t 0.2773\n"
     ]
    }
   ],
   "source": [
    "optimizer.train()"
   ]
  },
  {
   "cell_type": "markdown",
   "metadata": {},
   "source": [
    "## 6 Examining the results\n",
    "Now we can load and plot the results. First, we can look at the accuracy across iterations:"
   ]
  },
  {
   "cell_type": "code",
   "execution_count": 15,
   "metadata": {},
   "outputs": [
    {
     "data": {
      "image/png": "[encoded data removed]",
      "text/plain": [
       "<Figure size 432x288 with 1 Axes>"
      ]
     },
     "metadata": {
      "needs_background": "light"
     },
     "output_type": "display_data"
    }
   ],
   "source": [
    "%matplotlib inline\n",
    "import matplotlib.pyplot as plt\n",
    "import pickle\n",
    "\n",
    "results = pickle.load(open(save_file + '_results.pickle', 'rb'))\n",
    "\n",
    "plt.plot(list(results['test_accuracy'].keys()), list(results['test_accuracy'].values()))\n",
    "plt.xlabel('Iteration')\n",
    "plt.ylabel('Accuracy')\n",
    "plt.title('Accuracy when training a LeNet-5 CKN on MNIST')\n",
    "plt.show()"
   ]
  },
  {
   "cell_type": "markdown",
   "metadata": {},
   "source": [
    "We can also visualize the resultant features projected to 2D using t-SNE. Here we first create a grid. For each square in the grid, the code checks whether any image’s t-SNE representation lies in that square. If any such images exist, it chooses one at random and displays the original image in that square. The images are color-coded according to the ground-truth labels."
   ]
  },
  {
   "cell_type": "code",
   "execution_count": 16,
   "metadata": {},
   "outputs": [
    {
     "data": {
      "image/png": "[encoded data removed]",
      "text/plain": [
       "<Figure size 720x720 with 1 Axes>"
      ]
     },
     "metadata": {},
     "output_type": "display_data"
    }
   ],
   "source": [
    "import matplotlib\n",
    "import numpy as np\n",
    "import torch\n",
    "\n",
    "sys.path.append('../src/opt')\n",
    "\n",
    "import opt_utils\n",
    "import tsne_visualization\n",
    "\n",
    "matplotlib.rcParams['figure.figsize'] = (10, 10)\n",
    "\n",
    "# Load the trained model\n",
    "model = opt_structures.Model()\n",
    "model.load(save_file + '_model_300.pickle')\n",
    "\n",
    "# Compute the features and labels for 4096 observations\n",
    "torch.cuda.empty_cache()\n",
    "x_unlab_all = []\n",
    "features_all = []\n",
    "y_unlab_all = []\n",
    "for i in range(4):\n",
    "    x_unlab, y_unlab, y_unlab_truth = next(iter(train_unlabeled_loader))\n",
    "    x_unlab_all.append(x_unlab.cpu())\n",
    "    features = opt_utils.compute_features(x_unlab, model, standardize=False, normalize=True).cpu().detach()\n",
    "    features_all.append(features)\n",
    "    y_unlab_all.append(y_unlab_truth)\n",
    "\n",
    "x_unlab = torch.cat(x_unlab_all)\n",
    "x_unlab = ((x_unlab*0.3081+0.1307))\n",
    "features = torch.cat(features_all)\n",
    "y_unlab_truth = torch.cat(y_unlab_all)\n",
    "\n",
    "# Compute the embeddings\n",
    "embeddings = tsne_visualization.compute_embedding(features, perplexity=30)\n",
    "embeddings = (embeddings - np.min(embeddings))\n",
    "embeddings /= np.max(embeddings)\n",
    "\n",
    "# Plot the embeddings\n",
    "tsne_visualization.display_color(embeddings, x_unlab, y_unlab_truth, save_file=None)"
   ]
  },
  {
   "cell_type": "code",
   "execution_count": null,
   "metadata": {},
   "outputs": [],
   "source": []
  }
 ],
 "metadata": {
  "kernelspec": {
   "display_name": "Python 3",
   "language": "python",
   "name": "python3"
  },
  "language_info": {
   "codemirror_mode": {
    "name": "ipython",
    "version": 3
   },
   "file_extension": ".py",
   "mimetype": "text/x-python",
   "name": "python",
   "nbconvert_exporter": "python",
   "pygments_lexer": "ipython3",
   "version": "3.7.3"
  }
 },
 "nbformat": 4,
 "nbformat_minor": 2
}
